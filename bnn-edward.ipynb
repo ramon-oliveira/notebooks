{
 "cells": [
  {
   "cell_type": "code",
   "execution_count": null,
   "metadata": {
    "collapsed": false
   },
   "outputs": [],
   "source": [
    "from bokeh.io import show, output_notebook\n",
    "from bokeh.plotting import figure\n",
    "import numpy as np\n",
    "import tensorflow as tf\n",
    "import edward as ed\n",
    "from edward.models import Normal, Empirical\n",
    "from keras import datasets\n",
    "output_notebook()"
   ]
  },
  {
   "cell_type": "markdown",
   "metadata": {},
   "source": [
    "## DATA"
   ]
  },
  {
   "cell_type": "code",
   "execution_count": null,
   "metadata": {
    "collapsed": true
   },
   "outputs": [],
   "source": [
    "(X_train, y_train), (X_test, y_test) = datasets.mnist.load_data()\n",
    "\n",
    "X_train = X_train.reshape(-1, 28**2)\n",
    "X_test = X_test.reshape(-1, 28**2)\n",
    "\n",
    "X_train = X_train/128\n",
    "X_test = X_test/128\n",
    "\n",
    "y_train_oh = np.eye(10)[y_train]\n",
    "y_test_oh = np.eye(10)[y_test]\n",
    "\n",
    "X_train = X_train.astype('float32')\n",
    "y_train_oh = y_train_oh.astype('float32')\n",
    "X_test = X_test.astype('float32')\n",
    "y_test_oh = y_test_oh.astype('float32')\n",
    "\n",
    "N, DIN = X_train.shape\n",
    "DOUT = 10"
   ]
  },
  {
   "cell_type": "markdown",
   "metadata": {},
   "source": [
    "## MODEL"
   ]
  },
  {
   "cell_type": "code",
   "execution_count": null,
   "metadata": {
    "collapsed": false,
    "scrolled": false
   },
   "outputs": [],
   "source": [
    "def neural_network(X):\n",
    "    h = tf.tanh(tf.matmul(X, W_0) + b_0)\n",
    "    h = tf.tanh(tf.matmul(h, W_1) + b_1)\n",
    "    h = tf.nn.softmax(tf.matmul(h, W_2) + b_2)\n",
    "    return h\n",
    "\n",
    "\n",
    "W_0 = Normal(mu=tf.zeros([DIN, 10]), sigma=tf.ones([DIN, 10]))\n",
    "W_1 = Normal(mu=tf.zeros([10, 10]), sigma=tf.ones([10, 10]))\n",
    "W_2 = Normal(mu=tf.zeros([10, DOUT]), sigma=tf.ones([10, DOUT]))\n",
    "b_0 = Normal(mu=tf.zeros(10), sigma=tf.ones(10))\n",
    "b_1 = Normal(mu=tf.zeros(10), sigma=tf.ones(10))\n",
    "b_2 = Normal(mu=tf.zeros(DOUT), sigma=tf.ones(DOUT))\n",
    "\n",
    "X = tf.cast(X_train, dtype=tf.float32)\n",
    "y = Normal(mu=neural_network(X), sigma=0.1 * tf.ones([N, DOUT]))"
   ]
  },
  {
   "cell_type": "markdown",
   "metadata": {},
   "source": [
    "## INFERENCE"
   ]
  },
  {
   "cell_type": "code",
   "execution_count": null,
   "metadata": {
    "collapsed": true
   },
   "outputs": [],
   "source": [
    "N_SAMPLES = 100\n",
    "qW_0 = Empirical(params=tf.Variable(tf.random_normal([N_SAMPLES, DIN, 10])))\n",
    "qW_1 = Empirical(params=tf.Variable(tf.random_normal([N_SAMPLES, 10, 10])))\n",
    "qW_2 = Empirical(params=tf.Variable(tf.random_normal([N_SAMPLES, 10, DOUT])))\n",
    "qb_0 = Empirical(params=tf.Variable(tf.random_normal([N_SAMPLES, 10])))\n",
    "qb_1 = Empirical(params=tf.Variable(tf.random_normal([N_SAMPLES, 10])))\n",
    "qb_2 = Empirical(params=tf.Variable(tf.random_normal([N_SAMPLES, DOUT])))"
   ]
  },
  {
   "cell_type": "code",
   "execution_count": null,
   "metadata": {
    "collapsed": false
   },
   "outputs": [],
   "source": [
    "inference = ed.HMC({W_0: qW_0, b_0: qb_0,\n",
    "                    W_1: qW_1, b_1: qb_1,\n",
    "                    W_2: qW_2, b_2: qb_2}, data={X: X_train, y: y_train_oh})"
   ]
  },
  {
   "cell_type": "code",
   "execution_count": null,
   "metadata": {
    "collapsed": false
   },
   "outputs": [],
   "source": [
    "inference.run()"
   ]
  },
  {
   "cell_type": "markdown",
   "metadata": {},
   "source": [
    "## CRITICISM"
   ]
  },
  {
   "cell_type": "code",
   "execution_count": null,
   "metadata": {
    "collapsed": true
   },
   "outputs": [],
   "source": [
    "h = tf.tanh(tf.matmul(X_test, qW_0) + qb_0)\n",
    "h = tf.tanh(tf.matmul(h, qW_1) + qb_1)\n",
    "h = tf.nn.softmax(tf.matmul(h, qW_2) + qb_2)"
   ]
  },
  {
   "cell_type": "code",
   "execution_count": null,
   "metadata": {
    "collapsed": false
   },
   "outputs": [],
   "source": [
    "y_pred = h.eval()"
   ]
  },
  {
   "cell_type": "code",
   "execution_count": null,
   "metadata": {
    "collapsed": false
   },
   "outputs": [],
   "source": [
    "(y_test == y_pred.argmax(axis=1)).mean()"
   ]
  },
  {
   "cell_type": "code",
   "execution_count": null,
   "metadata": {
    "collapsed": true
   },
   "outputs": [],
   "source": []
  }
 ],
 "metadata": {
  "hide_input": false,
  "kernelspec": {
   "display_name": "Python 3",
   "language": "python",
   "name": "python3"
  },
  "language_info": {
   "codemirror_mode": {
    "name": "ipython",
    "version": 3
   },
   "file_extension": ".py",
   "mimetype": "text/x-python",
   "name": "python",
   "nbconvert_exporter": "python",
   "pygments_lexer": "ipython3",
   "version": "3.6.0"
  }
 },
 "nbformat": 4,
 "nbformat_minor": 0
}
